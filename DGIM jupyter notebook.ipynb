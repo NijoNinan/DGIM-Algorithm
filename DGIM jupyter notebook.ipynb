{
 "cells": [
  {
   "cell_type": "code",
   "execution_count": 2,
   "metadata": {},
   "outputs": [],
   "source": [
    "class Bucket:\n",
    "    \n",
    "    def __init__(self , index):\n",
    "        self.size = 1\n",
    "        self.time = index+1\n",
    "        self.startIndex = self.endIndex = index\n",
    "\n",
    "    def __str__(self):\n",
    "        global l\n",
    "        res = [self.size, l[self.startIndex:self.endIndex+1]]\n",
    "        return str(res)\n",
    "\n",
    "\n",
    "    # combining logic\n",
    "    def combine(self,b):\n",
    "        self.size += b.size\n",
    "        self.time = b.time\n",
    "        self.endIndex = b.endIndex"
   ]
  },
  {
   "cell_type": "code",
   "execution_count": 3,
   "metadata": {},
   "outputs": [],
   "source": [
    "# this function is called to check whether there is more that 2 buckets of same size\n",
    "# if there is it will combine\n",
    "def reshape():\n",
    "    global storage\n",
    "    \n",
    "    # if only 2 elements are there\n",
    "    if len(storage)<3:\n",
    "        return\n",
    "\n",
    "    \n",
    "    # if 3 buckets have same size \n",
    "    if storage[-1].size == storage[-2].size and storage[-2].size == storage[-3].size:\n",
    "\n",
    "        # if true then combine the 2nd last and 3rd last element\n",
    "\n",
    "        # last element\n",
    "        a = storage.pop()\n",
    "\n",
    "        # 2nd last element\n",
    "        b = storage.pop()\n",
    "\n",
    "        # combining 2nd last element with 3rd last element\n",
    "        storage[-1].combine(b)\n",
    "\n",
    "        # checking again\n",
    "        reshape()\n",
    "\n",
    "        # append the last element back\n",
    "        storage.append(a)"
   ]
  },
  {
   "cell_type": "code",
   "execution_count": 4,
   "metadata": {},
   "outputs": [
    {
     "name": "stdout",
     "output_type": "stream",
     "text": [
      "[8, '111011111'] [4, '1001101'] [4, '10101001'] [2, '11'] [2, '101'] [1, '1']\n"
     ]
    }
   ],
   "source": [
    "l = \"1110111110100110101010100101101011\"\n",
    "\n",
    "\n",
    "storage = []\n",
    "\n",
    "\n",
    "for index , bit in enumerate(l):\n",
    "    if bit == \"1\":\n",
    "        storage.append( Bucket(index) )\n",
    "        reshape()\n",
    "        \n",
    "        \n",
    "print(*storage)"
   ]
  },
  {
   "cell_type": "code",
   "execution_count": 5,
   "metadata": {},
   "outputs": [],
   "source": [
    "# Querying"
   ]
  },
  {
   "cell_type": "code",
   "execution_count": 6,
   "metadata": {},
   "outputs": [
    {
     "name": "stdout",
     "output_type": "stream",
     "text": [
      "10101010100101101011\n",
      "11\n"
     ]
    }
   ],
   "source": [
    "n = 20\n",
    "print(l[-n:])\n",
    "n = len(l)-n\n",
    "\n",
    "flag = False\n",
    "estimation = 0\n",
    "\n",
    "for bucket in storage:\n",
    "    if flag:\n",
    "        estimation += bucket.size\n",
    "        continue\n",
    "    if bucket.endIndex >= n:\n",
    "        estimation += bucket.size//2\n",
    "        flag = True\n",
    "\n",
    "print(estimation)"
   ]
  },
  {
   "cell_type": "code",
   "execution_count": null,
   "metadata": {},
   "outputs": [],
   "source": []
  },
  {
   "cell_type": "code",
   "execution_count": null,
   "metadata": {},
   "outputs": [],
   "source": []
  }
 ],
 "metadata": {
  "kernelspec": {
   "display_name": "Python 3",
   "language": "python",
   "name": "python3"
  },
  "language_info": {
   "codemirror_mode": {
    "name": "ipython",
    "version": 3
   },
   "file_extension": ".py",
   "mimetype": "text/x-python",
   "name": "python",
   "nbconvert_exporter": "python",
   "pygments_lexer": "ipython3",
   "version": "3.8.0"
  }
 },
 "nbformat": 4,
 "nbformat_minor": 4
}
